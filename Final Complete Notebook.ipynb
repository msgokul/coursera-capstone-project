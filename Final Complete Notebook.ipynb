{
    "cells": [
        {
            "cell_type": "code",
            "execution_count": 1,
            "metadata": {},
            "outputs": [
                {
                    "name": "stderr",
                    "output_type": "stream",
                    "text": "/opt/conda/envs/Python36/lib/python3.6/site-packages/IPython/core/interactiveshell.py:3020: DtypeWarning: Columns (33) have mixed types. Specify dtype option on import or set low_memory=False.\n  interactivity=interactivity, compiler=compiler, result=result)\n"
                },
                {
                    "data": {
                        "text/html": "<div>\n<style scoped>\n    .dataframe tbody tr th:only-of-type {\n        vertical-align: middle;\n    }\n\n    .dataframe tbody tr th {\n        vertical-align: top;\n    }\n\n    .dataframe thead th {\n        text-align: right;\n    }\n</style>\n<table border=\"1\" class=\"dataframe\">\n  <thead>\n    <tr style=\"text-align: right;\">\n      <th></th>\n      <th>SEVERITYCODE</th>\n      <th>X</th>\n      <th>Y</th>\n      <th>OBJECTID</th>\n      <th>INCKEY</th>\n      <th>COLDETKEY</th>\n      <th>REPORTNO</th>\n      <th>STATUS</th>\n      <th>ADDRTYPE</th>\n      <th>INTKEY</th>\n      <th>...</th>\n      <th>ROADCOND</th>\n      <th>LIGHTCOND</th>\n      <th>PEDROWNOTGRNT</th>\n      <th>SDOTCOLNUM</th>\n      <th>SPEEDING</th>\n      <th>ST_COLCODE</th>\n      <th>ST_COLDESC</th>\n      <th>SEGLANEKEY</th>\n      <th>CROSSWALKKEY</th>\n      <th>HITPARKEDCAR</th>\n    </tr>\n  </thead>\n  <tbody>\n    <tr>\n      <th>0</th>\n      <td>2</td>\n      <td>-122.323148</td>\n      <td>47.703140</td>\n      <td>1</td>\n      <td>1307</td>\n      <td>1307</td>\n      <td>3502005</td>\n      <td>Matched</td>\n      <td>Intersection</td>\n      <td>37475.0</td>\n      <td>...</td>\n      <td>Wet</td>\n      <td>Daylight</td>\n      <td>NaN</td>\n      <td>NaN</td>\n      <td>NaN</td>\n      <td>10</td>\n      <td>Entering at angle</td>\n      <td>0</td>\n      <td>0</td>\n      <td>N</td>\n    </tr>\n    <tr>\n      <th>1</th>\n      <td>1</td>\n      <td>-122.347294</td>\n      <td>47.647172</td>\n      <td>2</td>\n      <td>52200</td>\n      <td>52200</td>\n      <td>2607959</td>\n      <td>Matched</td>\n      <td>Block</td>\n      <td>NaN</td>\n      <td>...</td>\n      <td>Wet</td>\n      <td>Dark - Street Lights On</td>\n      <td>NaN</td>\n      <td>6354039.0</td>\n      <td>NaN</td>\n      <td>11</td>\n      <td>From same direction - both going straight - bo...</td>\n      <td>0</td>\n      <td>0</td>\n      <td>N</td>\n    </tr>\n    <tr>\n      <th>2</th>\n      <td>1</td>\n      <td>-122.334540</td>\n      <td>47.607871</td>\n      <td>3</td>\n      <td>26700</td>\n      <td>26700</td>\n      <td>1482393</td>\n      <td>Matched</td>\n      <td>Block</td>\n      <td>NaN</td>\n      <td>...</td>\n      <td>Dry</td>\n      <td>Daylight</td>\n      <td>NaN</td>\n      <td>4323031.0</td>\n      <td>NaN</td>\n      <td>32</td>\n      <td>One parked--one moving</td>\n      <td>0</td>\n      <td>0</td>\n      <td>N</td>\n    </tr>\n    <tr>\n      <th>3</th>\n      <td>1</td>\n      <td>-122.334803</td>\n      <td>47.604803</td>\n      <td>4</td>\n      <td>1144</td>\n      <td>1144</td>\n      <td>3503937</td>\n      <td>Matched</td>\n      <td>Block</td>\n      <td>NaN</td>\n      <td>...</td>\n      <td>Dry</td>\n      <td>Daylight</td>\n      <td>NaN</td>\n      <td>NaN</td>\n      <td>NaN</td>\n      <td>23</td>\n      <td>From same direction - all others</td>\n      <td>0</td>\n      <td>0</td>\n      <td>N</td>\n    </tr>\n    <tr>\n      <th>4</th>\n      <td>2</td>\n      <td>-122.306426</td>\n      <td>47.545739</td>\n      <td>5</td>\n      <td>17700</td>\n      <td>17700</td>\n      <td>1807429</td>\n      <td>Matched</td>\n      <td>Intersection</td>\n      <td>34387.0</td>\n      <td>...</td>\n      <td>Wet</td>\n      <td>Daylight</td>\n      <td>NaN</td>\n      <td>4028032.0</td>\n      <td>NaN</td>\n      <td>10</td>\n      <td>Entering at angle</td>\n      <td>0</td>\n      <td>0</td>\n      <td>N</td>\n    </tr>\n  </tbody>\n</table>\n<p>5 rows \u00d7 38 columns</p>\n</div>",
                        "text/plain": "   SEVERITYCODE           X          Y  OBJECTID  INCKEY  COLDETKEY REPORTNO  \\\n0             2 -122.323148  47.703140         1    1307       1307  3502005   \n1             1 -122.347294  47.647172         2   52200      52200  2607959   \n2             1 -122.334540  47.607871         3   26700      26700  1482393   \n3             1 -122.334803  47.604803         4    1144       1144  3503937   \n4             2 -122.306426  47.545739         5   17700      17700  1807429   \n\n    STATUS      ADDRTYPE   INTKEY  ... ROADCOND                LIGHTCOND  \\\n0  Matched  Intersection  37475.0  ...      Wet                 Daylight   \n1  Matched         Block      NaN  ...      Wet  Dark - Street Lights On   \n2  Matched         Block      NaN  ...      Dry                 Daylight   \n3  Matched         Block      NaN  ...      Dry                 Daylight   \n4  Matched  Intersection  34387.0  ...      Wet                 Daylight   \n\n  PEDROWNOTGRNT  SDOTCOLNUM SPEEDING ST_COLCODE  \\\n0           NaN         NaN      NaN         10   \n1           NaN   6354039.0      NaN         11   \n2           NaN   4323031.0      NaN         32   \n3           NaN         NaN      NaN         23   \n4           NaN   4028032.0      NaN         10   \n\n                                          ST_COLDESC  SEGLANEKEY  \\\n0                                  Entering at angle           0   \n1  From same direction - both going straight - bo...           0   \n2                             One parked--one moving           0   \n3                   From same direction - all others           0   \n4                                  Entering at angle           0   \n\n   CROSSWALKKEY  HITPARKEDCAR  \n0             0             N  \n1             0             N  \n2             0             N  \n3             0             N  \n4             0             N  \n\n[5 rows x 38 columns]"
                    },
                    "execution_count": 1,
                    "metadata": {},
                    "output_type": "execute_result"
                }
            ],
            "source": "# The code was removed by Watson Studio for sharing."
        },
        {
            "cell_type": "code",
            "execution_count": 2,
            "metadata": {},
            "outputs": [],
            "source": "import matplotlib.pyplot as plt\nimport numpy as np\nimport seaborn as sns\nfrom sklearn.model_selection import train_test_split\nfrom sklearn.metrics import jaccard_similarity_score\nfrom sklearn.metrics import f1_score\nfrom sklearn.metrics import log_loss\nfrom sklearn.model_selection import cross_val_score"
        },
        {
            "cell_type": "code",
            "execution_count": 3,
            "metadata": {},
            "outputs": [
                {
                    "name": "stdout",
                    "output_type": "stream",
                    "text": "<class 'pandas.core.frame.DataFrame'>\nRangeIndex: 194673 entries, 0 to 194672\nData columns (total 38 columns):\nSEVERITYCODE      194673 non-null int64\nX                 189339 non-null float64\nY                 189339 non-null float64\nOBJECTID          194673 non-null int64\nINCKEY            194673 non-null int64\nCOLDETKEY         194673 non-null int64\nREPORTNO          194673 non-null object\nSTATUS            194673 non-null object\nADDRTYPE          192747 non-null object\nINTKEY            65070 non-null float64\nLOCATION          191996 non-null object\nEXCEPTRSNCODE     84811 non-null object\nEXCEPTRSNDESC     5638 non-null object\nSEVERITYCODE.1    194673 non-null int64\nSEVERITYDESC      194673 non-null object\nCOLLISIONTYPE     189769 non-null object\nPERSONCOUNT       194673 non-null int64\nPEDCOUNT          194673 non-null int64\nPEDCYLCOUNT       194673 non-null int64\nVEHCOUNT          194673 non-null int64\nINCDATE           194673 non-null object\nINCDTTM           194673 non-null object\nJUNCTIONTYPE      188344 non-null object\nSDOT_COLCODE      194673 non-null int64\nSDOT_COLDESC      194673 non-null object\nINATTENTIONIND    29805 non-null object\nUNDERINFL         189789 non-null object\nWEATHER           189592 non-null object\nROADCOND          189661 non-null object\nLIGHTCOND         189503 non-null object\nPEDROWNOTGRNT     4667 non-null object\nSDOTCOLNUM        114936 non-null float64\nSPEEDING          9333 non-null object\nST_COLCODE        194655 non-null object\nST_COLDESC        189769 non-null object\nSEGLANEKEY        194673 non-null int64\nCROSSWALKKEY      194673 non-null int64\nHITPARKEDCAR      194673 non-null object\ndtypes: float64(4), int64(12), object(22)\nmemory usage: 56.4+ MB\n"
                }
            ],
            "source": "df.info()"
        },
        {
            "cell_type": "code",
            "execution_count": 4,
            "metadata": {},
            "outputs": [],
            "source": "def helper(col):\n    print(df[col].unique())\n    print(\"Total null = \" ,df[col].isnull().sum())\n    print(\"count= \",df[col].count())"
        },
        {
            "cell_type": "code",
            "execution_count": 5,
            "metadata": {},
            "outputs": [
                {
                    "name": "stdout",
                    "output_type": "stream",
                    "text": "[2 1]\nTotal null =  0\ncount=  194673\n"
                }
            ],
            "source": "helper('SEVERITYCODE')"
        },
        {
            "cell_type": "markdown",
            "metadata": {},
            "source": "##### Severity code is the target here"
        },
        {
            "cell_type": "markdown",
            "metadata": {},
            "source": " "
        },
        {
            "cell_type": "code",
            "execution_count": 6,
            "metadata": {},
            "outputs": [
                {
                    "data": {
                        "text/plain": "SEVERITYCODE           0\nX                   5334\nY                   5334\nOBJECTID               0\nINCKEY                 0\nCOLDETKEY              0\nREPORTNO               0\nSTATUS                 0\nADDRTYPE            1926\nINTKEY            129603\nLOCATION            2677\nEXCEPTRSNCODE     109862\nEXCEPTRSNDESC     189035\nSEVERITYCODE.1         0\nSEVERITYDESC           0\nCOLLISIONTYPE       4904\nPERSONCOUNT            0\nPEDCOUNT               0\nPEDCYLCOUNT            0\nVEHCOUNT               0\nINCDATE                0\nINCDTTM                0\nJUNCTIONTYPE        6329\nSDOT_COLCODE           0\nSDOT_COLDESC           0\nINATTENTIONIND    164868\nUNDERINFL           4884\nWEATHER             5081\nROADCOND            5012\nLIGHTCOND           5170\nPEDROWNOTGRNT     190006\nSDOTCOLNUM         79737\nSPEEDING          185340\nST_COLCODE            18\nST_COLDESC          4904\nSEGLANEKEY             0\nCROSSWALKKEY           0\nHITPARKEDCAR           0\ndtype: int64"
                    },
                    "execution_count": 6,
                    "metadata": {},
                    "output_type": "execute_result"
                }
            ],
            "source": "df.isnull().sum()"
        },
        {
            "cell_type": "code",
            "execution_count": 7,
            "metadata": {},
            "outputs": [],
            "source": "df.dropna(subset=['UNDERINFL','JUNCTIONTYPE','WEATHER','ROADCOND','LIGHTCOND','COLLISIONTYPE'],inplace=True)"
        },
        {
            "cell_type": "code",
            "execution_count": 8,
            "metadata": {},
            "outputs": [
                {
                    "data": {
                        "text/plain": "(183177, 38)"
                    },
                    "execution_count": 8,
                    "metadata": {},
                    "output_type": "execute_result"
                }
            ],
            "source": "df.shape"
        },
        {
            "cell_type": "code",
            "execution_count": 9,
            "metadata": {},
            "outputs": [],
            "source": "df['SPEEDING'].fillna(\"N\",inplace=True)\ndf['INATTENTIONIND'].fillna(\"N\",inplace=True)"
        },
        {
            "cell_type": "code",
            "execution_count": 10,
            "metadata": {},
            "outputs": [
                {
                    "name": "stdout",
                    "output_type": "stream",
                    "text": "<class 'pandas.core.frame.DataFrame'>\nInt64Index: 183177 entries, 0 to 194672\nData columns (total 38 columns):\nSEVERITYCODE      183177 non-null int64\nX                 180067 non-null float64\nY                 180067 non-null float64\nOBJECTID          183177 non-null int64\nINCKEY            183177 non-null int64\nCOLDETKEY         183177 non-null int64\nREPORTNO          183177 non-null object\nSTATUS            183177 non-null object\nADDRTYPE          182895 non-null object\nINTKEY            63298 non-null float64\nLOCATION          182660 non-null object\nEXCEPTRSNCODE     75690 non-null object\nEXCEPTRSNDESC     2110 non-null object\nSEVERITYCODE.1    183177 non-null int64\nSEVERITYDESC      183177 non-null object\nCOLLISIONTYPE     183177 non-null object\nPERSONCOUNT       183177 non-null int64\nPEDCOUNT          183177 non-null int64\nPEDCYLCOUNT       183177 non-null int64\nVEHCOUNT          183177 non-null int64\nINCDATE           183177 non-null object\nINCDTTM           183177 non-null object\nJUNCTIONTYPE      183177 non-null object\nSDOT_COLCODE      183177 non-null int64\nSDOT_COLDESC      183177 non-null object\nINATTENTIONIND    183177 non-null object\nUNDERINFL         183177 non-null object\nWEATHER           183177 non-null object\nROADCOND          183177 non-null object\nLIGHTCOND         183177 non-null object\nPEDROWNOTGRNT     4648 non-null object\nSDOTCOLNUM        111508 non-null float64\nSPEEDING          183177 non-null object\nST_COLCODE        183177 non-null object\nST_COLDESC        183177 non-null object\nSEGLANEKEY        183177 non-null int64\nCROSSWALKKEY      183177 non-null int64\nHITPARKEDCAR      183177 non-null object\ndtypes: float64(4), int64(12), object(22)\nmemory usage: 54.5+ MB\n"
                }
            ],
            "source": "df.info()"
        },
        {
            "cell_type": "code",
            "execution_count": 11,
            "metadata": {
                "scrolled": true
            },
            "outputs": [
                {
                    "data": {
                        "text/html": "<div>\n<style scoped>\n    .dataframe tbody tr th:only-of-type {\n        vertical-align: middle;\n    }\n\n    .dataframe tbody tr th {\n        vertical-align: top;\n    }\n\n    .dataframe thead th {\n        text-align: right;\n    }\n</style>\n<table border=\"1\" class=\"dataframe\">\n  <thead>\n    <tr style=\"text-align: right;\">\n      <th></th>\n      <th>count</th>\n      <th>mean</th>\n      <th>std</th>\n      <th>min</th>\n      <th>25%</th>\n      <th>50%</th>\n      <th>75%</th>\n      <th>max</th>\n    </tr>\n  </thead>\n  <tbody>\n    <tr>\n      <th>SEVERITYCODE</th>\n      <td>183177.0</td>\n      <td>1.309296e+00</td>\n      <td>4.622049e-01</td>\n      <td>1.000000e+00</td>\n      <td>1.000000e+00</td>\n      <td>1.000000e+00</td>\n      <td>2.000000e+00</td>\n      <td>2.000000e+00</td>\n    </tr>\n    <tr>\n      <th>X</th>\n      <td>180067.0</td>\n      <td>-1.223305e+02</td>\n      <td>2.997735e-02</td>\n      <td>-1.224191e+02</td>\n      <td>-1.223486e+02</td>\n      <td>-1.223302e+02</td>\n      <td>-1.223119e+02</td>\n      <td>-1.222389e+02</td>\n    </tr>\n    <tr>\n      <th>Y</th>\n      <td>180067.0</td>\n      <td>4.761950e+01</td>\n      <td>5.633115e-02</td>\n      <td>4.749557e+01</td>\n      <td>4.757558e+01</td>\n      <td>4.761528e+01</td>\n      <td>4.766394e+01</td>\n      <td>4.773414e+01</td>\n    </tr>\n    <tr>\n      <th>OBJECTID</th>\n      <td>183177.0</td>\n      <td>1.059971e+05</td>\n      <td>6.260997e+04</td>\n      <td>1.000000e+00</td>\n      <td>5.175400e+04</td>\n      <td>1.022430e+05</td>\n      <td>1.596390e+05</td>\n      <td>2.195470e+05</td>\n    </tr>\n    <tr>\n      <th>INCKEY</th>\n      <td>183177.0</td>\n      <td>1.375858e+05</td>\n      <td>8.592287e+04</td>\n      <td>1.001000e+03</td>\n      <td>6.765700e+04</td>\n      <td>1.185010e+05</td>\n      <td>1.983990e+05</td>\n      <td>3.313420e+05</td>\n    </tr>\n    <tr>\n      <th>COLDETKEY</th>\n      <td>183177.0</td>\n      <td>1.377816e+05</td>\n      <td>8.626350e+04</td>\n      <td>1.001000e+03</td>\n      <td>6.765700e+04</td>\n      <td>1.185010e+05</td>\n      <td>1.985390e+05</td>\n      <td>3.328420e+05</td>\n    </tr>\n    <tr>\n      <th>INTKEY</th>\n      <td>63298.0</td>\n      <td>3.749370e+04</td>\n      <td>5.131956e+04</td>\n      <td>2.380700e+04</td>\n      <td>2.866600e+04</td>\n      <td>2.997300e+04</td>\n      <td>3.398400e+04</td>\n      <td>7.575800e+05</td>\n    </tr>\n    <tr>\n      <th>SEVERITYCODE.1</th>\n      <td>183177.0</td>\n      <td>1.309296e+00</td>\n      <td>4.622049e-01</td>\n      <td>1.000000e+00</td>\n      <td>1.000000e+00</td>\n      <td>1.000000e+00</td>\n      <td>2.000000e+00</td>\n      <td>2.000000e+00</td>\n    </tr>\n    <tr>\n      <th>PERSONCOUNT</th>\n      <td>183177.0</td>\n      <td>2.475693e+00</td>\n      <td>1.370376e+00</td>\n      <td>0.000000e+00</td>\n      <td>2.000000e+00</td>\n      <td>2.000000e+00</td>\n      <td>3.000000e+00</td>\n      <td>8.100000e+01</td>\n    </tr>\n    <tr>\n      <th>PEDCOUNT</th>\n      <td>183177.0</td>\n      <td>3.894594e-02</td>\n      <td>2.028340e-01</td>\n      <td>0.000000e+00</td>\n      <td>0.000000e+00</td>\n      <td>0.000000e+00</td>\n      <td>0.000000e+00</td>\n      <td>6.000000e+00</td>\n    </tr>\n    <tr>\n      <th>PEDCYLCOUNT</th>\n      <td>183177.0</td>\n      <td>2.980178e-02</td>\n      <td>1.713518e-01</td>\n      <td>0.000000e+00</td>\n      <td>0.000000e+00</td>\n      <td>0.000000e+00</td>\n      <td>0.000000e+00</td>\n      <td>2.000000e+00</td>\n    </tr>\n    <tr>\n      <th>VEHCOUNT</th>\n      <td>183177.0</td>\n      <td>1.971918e+00</td>\n      <td>5.630118e-01</td>\n      <td>0.000000e+00</td>\n      <td>2.000000e+00</td>\n      <td>2.000000e+00</td>\n      <td>2.000000e+00</td>\n      <td>1.200000e+01</td>\n    </tr>\n    <tr>\n      <th>SDOT_COLCODE</th>\n      <td>183177.0</td>\n      <td>1.435366e+01</td>\n      <td>6.497267e+00</td>\n      <td>0.000000e+00</td>\n      <td>1.100000e+01</td>\n      <td>1.300000e+01</td>\n      <td>1.400000e+01</td>\n      <td>6.900000e+01</td>\n    </tr>\n    <tr>\n      <th>SDOTCOLNUM</th>\n      <td>111508.0</td>\n      <td>7.900617e+06</td>\n      <td>2.533644e+06</td>\n      <td>3.137016e+06</td>\n      <td>6.025026e+06</td>\n      <td>7.350022e+06</td>\n      <td>1.010601e+07</td>\n      <td>1.307202e+07</td>\n    </tr>\n    <tr>\n      <th>SEGLANEKEY</th>\n      <td>183177.0</td>\n      <td>2.794132e+02</td>\n      <td>3.388078e+03</td>\n      <td>0.000000e+00</td>\n      <td>0.000000e+00</td>\n      <td>0.000000e+00</td>\n      <td>0.000000e+00</td>\n      <td>5.252410e+05</td>\n    </tr>\n    <tr>\n      <th>CROSSWALKKEY</th>\n      <td>183177.0</td>\n      <td>1.020091e+04</td>\n      <td>7.378236e+04</td>\n      <td>0.000000e+00</td>\n      <td>0.000000e+00</td>\n      <td>0.000000e+00</td>\n      <td>0.000000e+00</td>\n      <td>5.239700e+06</td>\n    </tr>\n  </tbody>\n</table>\n</div>",
                        "text/plain": "                   count          mean           std           min  \\\nSEVERITYCODE    183177.0  1.309296e+00  4.622049e-01  1.000000e+00   \nX               180067.0 -1.223305e+02  2.997735e-02 -1.224191e+02   \nY               180067.0  4.761950e+01  5.633115e-02  4.749557e+01   \nOBJECTID        183177.0  1.059971e+05  6.260997e+04  1.000000e+00   \nINCKEY          183177.0  1.375858e+05  8.592287e+04  1.001000e+03   \nCOLDETKEY       183177.0  1.377816e+05  8.626350e+04  1.001000e+03   \nINTKEY           63298.0  3.749370e+04  5.131956e+04  2.380700e+04   \nSEVERITYCODE.1  183177.0  1.309296e+00  4.622049e-01  1.000000e+00   \nPERSONCOUNT     183177.0  2.475693e+00  1.370376e+00  0.000000e+00   \nPEDCOUNT        183177.0  3.894594e-02  2.028340e-01  0.000000e+00   \nPEDCYLCOUNT     183177.0  2.980178e-02  1.713518e-01  0.000000e+00   \nVEHCOUNT        183177.0  1.971918e+00  5.630118e-01  0.000000e+00   \nSDOT_COLCODE    183177.0  1.435366e+01  6.497267e+00  0.000000e+00   \nSDOTCOLNUM      111508.0  7.900617e+06  2.533644e+06  3.137016e+06   \nSEGLANEKEY      183177.0  2.794132e+02  3.388078e+03  0.000000e+00   \nCROSSWALKKEY    183177.0  1.020091e+04  7.378236e+04  0.000000e+00   \n\n                         25%           50%           75%           max  \nSEVERITYCODE    1.000000e+00  1.000000e+00  2.000000e+00  2.000000e+00  \nX              -1.223486e+02 -1.223302e+02 -1.223119e+02 -1.222389e+02  \nY               4.757558e+01  4.761528e+01  4.766394e+01  4.773414e+01  \nOBJECTID        5.175400e+04  1.022430e+05  1.596390e+05  2.195470e+05  \nINCKEY          6.765700e+04  1.185010e+05  1.983990e+05  3.313420e+05  \nCOLDETKEY       6.765700e+04  1.185010e+05  1.985390e+05  3.328420e+05  \nINTKEY          2.866600e+04  2.997300e+04  3.398400e+04  7.575800e+05  \nSEVERITYCODE.1  1.000000e+00  1.000000e+00  2.000000e+00  2.000000e+00  \nPERSONCOUNT     2.000000e+00  2.000000e+00  3.000000e+00  8.100000e+01  \nPEDCOUNT        0.000000e+00  0.000000e+00  0.000000e+00  6.000000e+00  \nPEDCYLCOUNT     0.000000e+00  0.000000e+00  0.000000e+00  2.000000e+00  \nVEHCOUNT        2.000000e+00  2.000000e+00  2.000000e+00  1.200000e+01  \nSDOT_COLCODE    1.100000e+01  1.300000e+01  1.400000e+01  6.900000e+01  \nSDOTCOLNUM      6.025026e+06  7.350022e+06  1.010601e+07  1.307202e+07  \nSEGLANEKEY      0.000000e+00  0.000000e+00  0.000000e+00  5.252410e+05  \nCROSSWALKKEY    0.000000e+00  0.000000e+00  0.000000e+00  5.239700e+06  "
                    },
                    "execution_count": 11,
                    "metadata": {},
                    "output_type": "execute_result"
                }
            ],
            "source": "df.describe().T"
        },
        {
            "cell_type": "code",
            "execution_count": 12,
            "metadata": {},
            "outputs": [
                {
                    "name": "stdout",
                    "output_type": "stream",
                    "text": "N    95132\n0    79043\nY     5024\n1     3978\nName: UNDERINFL, dtype: int64\n\n\nMid-Block (not related to intersection)              86852\nAt Intersection (intersection related)               61226\nMid-Block (but intersection related)                 22353\nDriveway Junction                                    10520\nAt Intersection (but not related to intersection)     2057\nRamp Junction                                          162\nUnknown                                                  7\nName: JUNCTIONTYPE, dtype: int64\n\n\nClear                       109157\nRaining                      32671\nOvercast                     27202\nUnknown                      11767\nSnowing                        882\nOther                          749\nFog/Smog/Smoke                 558\nSleet/Hail/Freezing Rain       112\nBlowing Sand/Dirt               49\nSevere Crosswind                25\nPartly Cloudy                    5\nName: WEATHER, dtype: int64\n\n\nDry               122260\nWet                46748\nUnknown            11652\nIce                 1178\nSnow/Slush           980\nOther                123\nStanding Water       109\nSand/Mud/Dirt         67\nOil                   60\nName: ROADCOND, dtype: int64\n\n\nDaylight                    113959\nDark - Street Lights On      47590\nUnknown                      10553\nDusk                          5780\nDawn                          2453\nDark - No Street Lights       1462\nDark - Street Lights Off      1158\nOther                          211\nDark - Unknown Lighting         11\nName: LIGHTCOND, dtype: int64\n\n\nParked Car    43272\nAngles        34464\nRear Ended    33683\nOther         22999\nSideswipe     18312\nLeft Turn     13641\nPedestrian     6515\nCycles         5365\nRight Turn     2930\nHead On        1996\nName: COLLISIONTYPE, dtype: int64\n\n\nN    173968\nY      9209\nName: SPEEDING, dtype: int64\n\n\n"
                }
            ],
            "source": "subset=['UNDERINFL','JUNCTIONTYPE','WEATHER','ROADCOND','LIGHTCOND','COLLISIONTYPE','SPEEDING']\nfor i in subset:\n    print(df[i].value_counts())\n    print(\"\\n\")"
        },
        {
            "cell_type": "code",
            "execution_count": 13,
            "metadata": {},
            "outputs": [
                {
                    "data": {
                        "text/html": "<div>\n<style scoped>\n    .dataframe tbody tr th:only-of-type {\n        vertical-align: middle;\n    }\n\n    .dataframe tbody tr th {\n        vertical-align: top;\n    }\n\n    .dataframe thead th {\n        text-align: right;\n    }\n</style>\n<table border=\"1\" class=\"dataframe\">\n  <thead>\n    <tr style=\"text-align: right;\">\n      <th></th>\n      <th>UNDERINFL</th>\n      <th>JUNCTIONTYPE</th>\n      <th>WEATHER</th>\n      <th>ROADCOND</th>\n      <th>LIGHTCOND</th>\n      <th>COLLISIONTYPE</th>\n      <th>SPEEDING</th>\n    </tr>\n  </thead>\n  <tbody>\n    <tr>\n      <th>0</th>\n      <td>N</td>\n      <td>At Intersection (intersection related)</td>\n      <td>Overcast</td>\n      <td>Wet</td>\n      <td>Daylight</td>\n      <td>Angles</td>\n      <td>N</td>\n    </tr>\n    <tr>\n      <th>1</th>\n      <td>0</td>\n      <td>Mid-Block (not related to intersection)</td>\n      <td>Raining</td>\n      <td>Wet</td>\n      <td>Dark - Street Lights On</td>\n      <td>Sideswipe</td>\n      <td>N</td>\n    </tr>\n    <tr>\n      <th>2</th>\n      <td>0</td>\n      <td>Mid-Block (not related to intersection)</td>\n      <td>Overcast</td>\n      <td>Dry</td>\n      <td>Daylight</td>\n      <td>Parked Car</td>\n      <td>N</td>\n    </tr>\n    <tr>\n      <th>3</th>\n      <td>N</td>\n      <td>Mid-Block (not related to intersection)</td>\n      <td>Clear</td>\n      <td>Dry</td>\n      <td>Daylight</td>\n      <td>Other</td>\n      <td>N</td>\n    </tr>\n    <tr>\n      <th>4</th>\n      <td>0</td>\n      <td>At Intersection (intersection related)</td>\n      <td>Raining</td>\n      <td>Wet</td>\n      <td>Daylight</td>\n      <td>Angles</td>\n      <td>N</td>\n    </tr>\n  </tbody>\n</table>\n</div>",
                        "text/plain": "  UNDERINFL                             JUNCTIONTYPE   WEATHER ROADCOND  \\\n0         N   At Intersection (intersection related)  Overcast      Wet   \n1         0  Mid-Block (not related to intersection)   Raining      Wet   \n2         0  Mid-Block (not related to intersection)  Overcast      Dry   \n3         N  Mid-Block (not related to intersection)     Clear      Dry   \n4         0   At Intersection (intersection related)   Raining      Wet   \n\n                 LIGHTCOND COLLISIONTYPE SPEEDING  \n0                 Daylight        Angles        N  \n1  Dark - Street Lights On     Sideswipe        N  \n2                 Daylight    Parked Car        N  \n3                 Daylight         Other        N  \n4                 Daylight        Angles        N  "
                    },
                    "execution_count": 13,
                    "metadata": {},
                    "output_type": "execute_result"
                }
            ],
            "source": "X= df[subset]\nX.head()"
        },
        {
            "cell_type": "code",
            "execution_count": 14,
            "metadata": {},
            "outputs": [
                {
                    "name": "stderr",
                    "output_type": "stream",
                    "text": "/opt/conda/envs/Python36/lib/python3.6/site-packages/pandas/core/generic.py:6586: SettingWithCopyWarning: \nA value is trying to be set on a copy of a slice from a DataFrame\n\nSee the caveats in the documentation: http://pandas.pydata.org/pandas-docs/stable/indexing.html#indexing-view-versus-copy\n  self._update_inplace(new_data)\n"
                },
                {
                    "name": "stdout",
                    "output_type": "stream",
                    "text": "['N' '0' '1' 'Y']\nTotal null =  0\ncount=  183177\n['N' '0' '1' 'Y']\nTotal null =  0\ncount=  183177\n['N' 'Y']\nTotal null =  0\ncount=  183177\n['N' 'Y']\nTotal null =  0\ncount=  183177\n"
                }
            ],
            "source": "X['UNDERINFL'].replace('N','0',inplace=True)\nhelper('UNDERINFL')\nX['UNDERINFL'].replace('Y','1',inplace=True)\nhelper('UNDERINFL')\nX['SPEEDING'].replace('N','0',inplace=True)\nhelper('SPEEDING')\nX['SPEEDING'].replace('Y','1',inplace=True)\nhelper('SPEEDING')\n\n"
        },
        {
            "cell_type": "code",
            "execution_count": 15,
            "metadata": {},
            "outputs": [
                {
                    "name": "stdout",
                    "output_type": "stream",
                    "text": "<class 'pandas.core.frame.DataFrame'>\nInt64Index: 183177 entries, 0 to 194672\nData columns (total 7 columns):\nUNDERINFL        183177 non-null object\nJUNCTIONTYPE     183177 non-null object\nWEATHER          183177 non-null object\nROADCOND         183177 non-null object\nLIGHTCOND        183177 non-null object\nCOLLISIONTYPE    183177 non-null object\nSPEEDING         183177 non-null object\ndtypes: object(7)\nmemory usage: 11.2+ MB\n"
                }
            ],
            "source": "X.info()"
        },
        {
            "cell_type": "code",
            "execution_count": 16,
            "metadata": {},
            "outputs": [
                {
                    "name": "stderr",
                    "output_type": "stream",
                    "text": "/opt/conda/envs/Python36/lib/python3.6/site-packages/ipykernel/__main__.py:1: SettingWithCopyWarning: \nA value is trying to be set on a copy of a slice from a DataFrame.\nTry using .loc[row_indexer,col_indexer] = value instead\n\nSee the caveats in the documentation: http://pandas.pydata.org/pandas-docs/stable/indexing.html#indexing-view-versus-copy\n  if __name__ == '__main__':\n/opt/conda/envs/Python36/lib/python3.6/site-packages/ipykernel/__main__.py:2: SettingWithCopyWarning: \nA value is trying to be set on a copy of a slice from a DataFrame.\nTry using .loc[row_indexer,col_indexer] = value instead\n\nSee the caveats in the documentation: http://pandas.pydata.org/pandas-docs/stable/indexing.html#indexing-view-versus-copy\n  from ipykernel import kernelapp as app\n"
                }
            ],
            "source": "X['SPEEDING']= X['SPEEDING'].astype(int)\nX['UNDERINFL']= X['UNDERINFL'].astype(int)"
        },
        {
            "cell_type": "code",
            "execution_count": 17,
            "metadata": {},
            "outputs": [
                {
                    "name": "stdout",
                    "output_type": "stream",
                    "text": "<class 'pandas.core.frame.DataFrame'>\nInt64Index: 183177 entries, 0 to 194672\nData columns (total 7 columns):\nUNDERINFL        183177 non-null int64\nJUNCTIONTYPE     183177 non-null object\nWEATHER          183177 non-null object\nROADCOND         183177 non-null object\nLIGHTCOND        183177 non-null object\nCOLLISIONTYPE    183177 non-null object\nSPEEDING         183177 non-null int64\ndtypes: int64(2), object(5)\nmemory usage: 11.2+ MB\n"
                }
            ],
            "source": "X.info()"
        },
        {
            "cell_type": "markdown",
            "metadata": {},
            "source": " "
        },
        {
            "cell_type": "markdown",
            "metadata": {},
            "source": "## Finding Data Correlation"
        },
        {
            "cell_type": "code",
            "execution_count": 18,
            "metadata": {},
            "outputs": [],
            "source": "df_corr= X.corr(method='pearson')"
        },
        {
            "cell_type": "code",
            "execution_count": 19,
            "metadata": {
                "scrolled": false
            },
            "outputs": [
                {
                    "data": {
                        "image/png": "[encoded data removed]",
                        "text/plain": "<Figure size 720x1440 with 40 Axes>"
                    },
                    "metadata": {
                        "needs_background": "light"
                    },
                    "output_type": "display_data"
                }
            ],
            "source": "X.plot(kind='box',subplots=True,layout=(10,4),sharex=False,sharey=False,figsize=(10,20))\nplt.show()"
        },
        {
            "cell_type": "code",
            "execution_count": 20,
            "metadata": {},
            "outputs": [
                {
                    "data": {
                        "image/png": "[encoded data removed]",
                        "text/plain": "<Figure size 432x288 with 1 Axes>"
                    },
                    "metadata": {
                        "needs_background": "light"
                    },
                    "output_type": "display_data"
                }
            ],
            "source": "plt.scatter(X['UNDERINFL'], df['SEVERITYCODE'])\nplt.show()              "
        },
        {
            "cell_type": "code",
            "execution_count": 21,
            "metadata": {},
            "outputs": [
                {
                    "data": {
                        "image/png": "[encoded data removed]",
                        "text/plain": "<Figure size 432x288 with 1 Axes>"
                    },
                    "metadata": {
                        "needs_background": "light"
                    },
                    "output_type": "display_data"
                }
            ],
            "source": "plt.scatter(X['SPEEDING'], df['SEVERITYCODE'] )\nplt.show()"
        },
        {
            "cell_type": "markdown",
            "metadata": {},
            "source": " \n "
        },
        {
            "cell_type": "markdown",
            "metadata": {},
            "source": " "
        },
        {
            "cell_type": "markdown",
            "metadata": {},
            "source": "## One code encoding for the categorical data"
        },
        {
            "cell_type": "code",
            "execution_count": 22,
            "metadata": {},
            "outputs": [],
            "source": "jtype= pd.get_dummies(X['JUNCTIONTYPE'], prefix= 'JUNCTIONTYPE')\nroad= pd.get_dummies(X['ROADCOND'], prefix= 'ROADCOND')\nweather= pd.get_dummies(X['WEATHER'], prefix= 'WEATHER')\nlight= pd.get_dummies(X['LIGHTCOND'], prefix= 'LIGHTCOND')\ncollision= pd.get_dummies(X['COLLISIONTYPE'], prefix= 'COLLISIONTYPE')"
        },
        {
            "cell_type": "code",
            "execution_count": 23,
            "metadata": {},
            "outputs": [
                {
                    "data": {
                        "text/html": "<div>\n<style scoped>\n    .dataframe tbody tr th:only-of-type {\n        vertical-align: middle;\n    }\n\n    .dataframe tbody tr th {\n        vertical-align: top;\n    }\n\n    .dataframe thead th {\n        text-align: right;\n    }\n</style>\n<table border=\"1\" class=\"dataframe\">\n  <thead>\n    <tr style=\"text-align: right;\">\n      <th></th>\n      <th>COLLISIONTYPE_Angles</th>\n      <th>COLLISIONTYPE_Cycles</th>\n      <th>COLLISIONTYPE_Head On</th>\n      <th>COLLISIONTYPE_Left Turn</th>\n      <th>COLLISIONTYPE_Other</th>\n      <th>COLLISIONTYPE_Parked Car</th>\n      <th>COLLISIONTYPE_Pedestrian</th>\n      <th>COLLISIONTYPE_Rear Ended</th>\n      <th>COLLISIONTYPE_Right Turn</th>\n      <th>COLLISIONTYPE_Sideswipe</th>\n    </tr>\n  </thead>\n  <tbody>\n    <tr>\n      <th>0</th>\n      <td>1</td>\n      <td>0</td>\n      <td>0</td>\n      <td>0</td>\n      <td>0</td>\n      <td>0</td>\n      <td>0</td>\n      <td>0</td>\n      <td>0</td>\n      <td>0</td>\n    </tr>\n    <tr>\n      <th>1</th>\n      <td>0</td>\n      <td>0</td>\n      <td>0</td>\n      <td>0</td>\n      <td>0</td>\n      <td>0</td>\n      <td>0</td>\n      <td>0</td>\n      <td>0</td>\n      <td>1</td>\n    </tr>\n    <tr>\n      <th>2</th>\n      <td>0</td>\n      <td>0</td>\n      <td>0</td>\n      <td>0</td>\n      <td>0</td>\n      <td>1</td>\n      <td>0</td>\n      <td>0</td>\n      <td>0</td>\n      <td>0</td>\n    </tr>\n    <tr>\n      <th>3</th>\n      <td>0</td>\n      <td>0</td>\n      <td>0</td>\n      <td>0</td>\n      <td>1</td>\n      <td>0</td>\n      <td>0</td>\n      <td>0</td>\n      <td>0</td>\n      <td>0</td>\n    </tr>\n    <tr>\n      <th>4</th>\n      <td>1</td>\n      <td>0</td>\n      <td>0</td>\n      <td>0</td>\n      <td>0</td>\n      <td>0</td>\n      <td>0</td>\n      <td>0</td>\n      <td>0</td>\n      <td>0</td>\n    </tr>\n  </tbody>\n</table>\n</div>",
                        "text/plain": "   COLLISIONTYPE_Angles  COLLISIONTYPE_Cycles  COLLISIONTYPE_Head On  \\\n0                     1                     0                      0   \n1                     0                     0                      0   \n2                     0                     0                      0   \n3                     0                     0                      0   \n4                     1                     0                      0   \n\n   COLLISIONTYPE_Left Turn  COLLISIONTYPE_Other  COLLISIONTYPE_Parked Car  \\\n0                        0                    0                         0   \n1                        0                    0                         0   \n2                        0                    0                         1   \n3                        0                    1                         0   \n4                        0                    0                         0   \n\n   COLLISIONTYPE_Pedestrian  COLLISIONTYPE_Rear Ended  \\\n0                         0                         0   \n1                         0                         0   \n2                         0                         0   \n3                         0                         0   \n4                         0                         0   \n\n   COLLISIONTYPE_Right Turn  COLLISIONTYPE_Sideswipe  \n0                         0                        0  \n1                         0                        1  \n2                         0                        0  \n3                         0                        0  \n4                         0                        0  "
                    },
                    "execution_count": 23,
                    "metadata": {},
                    "output_type": "execute_result"
                }
            ],
            "source": "collision.head()"
        },
        {
            "cell_type": "code",
            "execution_count": 24,
            "metadata": {},
            "outputs": [
                {
                    "name": "stderr",
                    "output_type": "stream",
                    "text": "/opt/conda/envs/Python36/lib/python3.6/site-packages/pandas/core/frame.py:3940: SettingWithCopyWarning: \nA value is trying to be set on a copy of a slice from a DataFrame\n\nSee the caveats in the documentation: http://pandas.pydata.org/pandas-docs/stable/indexing.html#indexing-view-versus-copy\n  errors=errors)\n"
                }
            ],
            "source": "X.drop(['JUNCTIONTYPE','WEATHER','ROADCOND','LIGHTCOND','COLLISIONTYPE'], axis=1, inplace=True)"
        },
        {
            "cell_type": "code",
            "execution_count": 25,
            "metadata": {},
            "outputs": [
                {
                    "name": "stdout",
                    "output_type": "stream",
                    "text": "<class 'pandas.core.frame.DataFrame'>\nInt64Index: 183177 entries, 0 to 194672\nData columns (total 2 columns):\nUNDERINFL    183177 non-null int64\nSPEEDING     183177 non-null int64\ndtypes: int64(2)\nmemory usage: 4.2 MB\n"
                }
            ],
            "source": "X.info()"
        },
        {
            "cell_type": "code",
            "execution_count": 26,
            "metadata": {},
            "outputs": [],
            "source": "X= pd.concat([X,jtype,road,weather,light,collision],axis=1)"
        },
        {
            "cell_type": "code",
            "execution_count": 27,
            "metadata": {},
            "outputs": [
                {
                    "data": {
                        "text/html": "<div>\n<style scoped>\n    .dataframe tbody tr th:only-of-type {\n        vertical-align: middle;\n    }\n\n    .dataframe tbody tr th {\n        vertical-align: top;\n    }\n\n    .dataframe thead th {\n        text-align: right;\n    }\n</style>\n<table border=\"1\" class=\"dataframe\">\n  <thead>\n    <tr style=\"text-align: right;\">\n      <th></th>\n      <th>UNDERINFL</th>\n      <th>SPEEDING</th>\n      <th>JUNCTIONTYPE_At Intersection (but not related to intersection)</th>\n      <th>JUNCTIONTYPE_At Intersection (intersection related)</th>\n      <th>JUNCTIONTYPE_Driveway Junction</th>\n      <th>JUNCTIONTYPE_Mid-Block (but intersection related)</th>\n      <th>JUNCTIONTYPE_Mid-Block (not related to intersection)</th>\n      <th>JUNCTIONTYPE_Ramp Junction</th>\n      <th>JUNCTIONTYPE_Unknown</th>\n      <th>ROADCOND_Dry</th>\n      <th>...</th>\n      <th>COLLISIONTYPE_Angles</th>\n      <th>COLLISIONTYPE_Cycles</th>\n      <th>COLLISIONTYPE_Head On</th>\n      <th>COLLISIONTYPE_Left Turn</th>\n      <th>COLLISIONTYPE_Other</th>\n      <th>COLLISIONTYPE_Parked Car</th>\n      <th>COLLISIONTYPE_Pedestrian</th>\n      <th>COLLISIONTYPE_Rear Ended</th>\n      <th>COLLISIONTYPE_Right Turn</th>\n      <th>COLLISIONTYPE_Sideswipe</th>\n    </tr>\n  </thead>\n  <tbody>\n    <tr>\n      <th>0</th>\n      <td>0</td>\n      <td>0</td>\n      <td>0</td>\n      <td>1</td>\n      <td>0</td>\n      <td>0</td>\n      <td>0</td>\n      <td>0</td>\n      <td>0</td>\n      <td>0</td>\n      <td>...</td>\n      <td>1</td>\n      <td>0</td>\n      <td>0</td>\n      <td>0</td>\n      <td>0</td>\n      <td>0</td>\n      <td>0</td>\n      <td>0</td>\n      <td>0</td>\n      <td>0</td>\n    </tr>\n    <tr>\n      <th>1</th>\n      <td>0</td>\n      <td>0</td>\n      <td>0</td>\n      <td>0</td>\n      <td>0</td>\n      <td>0</td>\n      <td>1</td>\n      <td>0</td>\n      <td>0</td>\n      <td>0</td>\n      <td>...</td>\n      <td>0</td>\n      <td>0</td>\n      <td>0</td>\n      <td>0</td>\n      <td>0</td>\n      <td>0</td>\n      <td>0</td>\n      <td>0</td>\n      <td>0</td>\n      <td>1</td>\n    </tr>\n    <tr>\n      <th>2</th>\n      <td>0</td>\n      <td>0</td>\n      <td>0</td>\n      <td>0</td>\n      <td>0</td>\n      <td>0</td>\n      <td>1</td>\n      <td>0</td>\n      <td>0</td>\n      <td>1</td>\n      <td>...</td>\n      <td>0</td>\n      <td>0</td>\n      <td>0</td>\n      <td>0</td>\n      <td>0</td>\n      <td>1</td>\n      <td>0</td>\n      <td>0</td>\n      <td>0</td>\n      <td>0</td>\n    </tr>\n    <tr>\n      <th>3</th>\n      <td>0</td>\n      <td>0</td>\n      <td>0</td>\n      <td>0</td>\n      <td>0</td>\n      <td>0</td>\n      <td>1</td>\n      <td>0</td>\n      <td>0</td>\n      <td>1</td>\n      <td>...</td>\n      <td>0</td>\n      <td>0</td>\n      <td>0</td>\n      <td>0</td>\n      <td>1</td>\n      <td>0</td>\n      <td>0</td>\n      <td>0</td>\n      <td>0</td>\n      <td>0</td>\n    </tr>\n    <tr>\n      <th>4</th>\n      <td>0</td>\n      <td>0</td>\n      <td>0</td>\n      <td>1</td>\n      <td>0</td>\n      <td>0</td>\n      <td>0</td>\n      <td>0</td>\n      <td>0</td>\n      <td>0</td>\n      <td>...</td>\n      <td>1</td>\n      <td>0</td>\n      <td>0</td>\n      <td>0</td>\n      <td>0</td>\n      <td>0</td>\n      <td>0</td>\n      <td>0</td>\n      <td>0</td>\n      <td>0</td>\n    </tr>\n  </tbody>\n</table>\n<p>5 rows \u00d7 48 columns</p>\n</div>",
                        "text/plain": "   UNDERINFL  SPEEDING  \\\n0          0         0   \n1          0         0   \n2          0         0   \n3          0         0   \n4          0         0   \n\n   JUNCTIONTYPE_At Intersection (but not related to intersection)  \\\n0                                                  0                \n1                                                  0                \n2                                                  0                \n3                                                  0                \n4                                                  0                \n\n   JUNCTIONTYPE_At Intersection (intersection related)  \\\n0                                                  1     \n1                                                  0     \n2                                                  0     \n3                                                  0     \n4                                                  1     \n\n   JUNCTIONTYPE_Driveway Junction  \\\n0                               0   \n1                               0   \n2                               0   \n3                               0   \n4                               0   \n\n   JUNCTIONTYPE_Mid-Block (but intersection related)  \\\n0                                                  0   \n1                                                  0   \n2                                                  0   \n3                                                  0   \n4                                                  0   \n\n   JUNCTIONTYPE_Mid-Block (not related to intersection)  \\\n0                                                  0      \n1                                                  1      \n2                                                  1      \n3                                                  1      \n4                                                  0      \n\n   JUNCTIONTYPE_Ramp Junction  JUNCTIONTYPE_Unknown  ROADCOND_Dry  ...  \\\n0                           0                     0             0  ...   \n1                           0                     0             0  ...   \n2                           0                     0             1  ...   \n3                           0                     0             1  ...   \n4                           0                     0             0  ...   \n\n   COLLISIONTYPE_Angles  COLLISIONTYPE_Cycles  COLLISIONTYPE_Head On  \\\n0                     1                     0                      0   \n1                     0                     0                      0   \n2                     0                     0                      0   \n3                     0                     0                      0   \n4                     1                     0                      0   \n\n   COLLISIONTYPE_Left Turn  COLLISIONTYPE_Other  COLLISIONTYPE_Parked Car  \\\n0                        0                    0                         0   \n1                        0                    0                         0   \n2                        0                    0                         1   \n3                        0                    1                         0   \n4                        0                    0                         0   \n\n   COLLISIONTYPE_Pedestrian  COLLISIONTYPE_Rear Ended  \\\n0                         0                         0   \n1                         0                         0   \n2                         0                         0   \n3                         0                         0   \n4                         0                         0   \n\n   COLLISIONTYPE_Right Turn  COLLISIONTYPE_Sideswipe  \n0                         0                        0  \n1                         0                        1  \n2                         0                        0  \n3                         0                        0  \n4                         0                        0  \n\n[5 rows x 48 columns]"
                    },
                    "execution_count": 27,
                    "metadata": {},
                    "output_type": "execute_result"
                }
            ],
            "source": "X.head()"
        },
        {
            "cell_type": "code",
            "execution_count": 28,
            "metadata": {},
            "outputs": [
                {
                    "data": {
                        "text/html": "<div>\n<style scoped>\n    .dataframe tbody tr th:only-of-type {\n        vertical-align: middle;\n    }\n\n    .dataframe tbody tr th {\n        vertical-align: top;\n    }\n\n    .dataframe thead th {\n        text-align: right;\n    }\n</style>\n<table border=\"1\" class=\"dataframe\">\n  <thead>\n    <tr style=\"text-align: right;\">\n      <th></th>\n      <th>UNDERINFL</th>\n      <th>SPEEDING</th>\n      <th>JUNCTIONTYPE_At Intersection (but not related to intersection)</th>\n      <th>JUNCTIONTYPE_At Intersection (intersection related)</th>\n      <th>JUNCTIONTYPE_Driveway Junction</th>\n      <th>JUNCTIONTYPE_Mid-Block (but intersection related)</th>\n      <th>JUNCTIONTYPE_Mid-Block (not related to intersection)</th>\n      <th>JUNCTIONTYPE_Ramp Junction</th>\n      <th>JUNCTIONTYPE_Unknown</th>\n      <th>ROADCOND_Dry</th>\n      <th>...</th>\n      <th>COLLISIONTYPE_Angles</th>\n      <th>COLLISIONTYPE_Cycles</th>\n      <th>COLLISIONTYPE_Head On</th>\n      <th>COLLISIONTYPE_Left Turn</th>\n      <th>COLLISIONTYPE_Other</th>\n      <th>COLLISIONTYPE_Parked Car</th>\n      <th>COLLISIONTYPE_Pedestrian</th>\n      <th>COLLISIONTYPE_Rear Ended</th>\n      <th>COLLISIONTYPE_Right Turn</th>\n      <th>COLLISIONTYPE_Sideswipe</th>\n    </tr>\n  </thead>\n  <tbody>\n    <tr>\n      <th>count</th>\n      <td>183177.000000</td>\n      <td>183177.000000</td>\n      <td>183177.000000</td>\n      <td>183177.000000</td>\n      <td>183177.000000</td>\n      <td>183177.000000</td>\n      <td>183177.000000</td>\n      <td>183177.000000</td>\n      <td>183177.000000</td>\n      <td>183177.000000</td>\n      <td>...</td>\n      <td>183177.000000</td>\n      <td>183177.000000</td>\n      <td>183177.000000</td>\n      <td>183177.000000</td>\n      <td>183177.000000</td>\n      <td>183177.000000</td>\n      <td>183177.000000</td>\n      <td>183177.000000</td>\n      <td>183177.000000</td>\n      <td>183177.000000</td>\n    </tr>\n    <tr>\n      <th>mean</th>\n      <td>0.049144</td>\n      <td>0.050274</td>\n      <td>0.011230</td>\n      <td>0.334245</td>\n      <td>0.057431</td>\n      <td>0.122030</td>\n      <td>0.474142</td>\n      <td>0.000884</td>\n      <td>0.000038</td>\n      <td>0.667442</td>\n      <td>...</td>\n      <td>0.188146</td>\n      <td>0.029289</td>\n      <td>0.010897</td>\n      <td>0.074469</td>\n      <td>0.125556</td>\n      <td>0.236231</td>\n      <td>0.035567</td>\n      <td>0.183882</td>\n      <td>0.015995</td>\n      <td>0.099969</td>\n    </tr>\n    <tr>\n      <th>std</th>\n      <td>0.216169</td>\n      <td>0.218510</td>\n      <td>0.105373</td>\n      <td>0.471727</td>\n      <td>0.232665</td>\n      <td>0.327321</td>\n      <td>0.499332</td>\n      <td>0.029726</td>\n      <td>0.006182</td>\n      <td>0.471131</td>\n      <td>...</td>\n      <td>0.390830</td>\n      <td>0.168615</td>\n      <td>0.103817</td>\n      <td>0.262533</td>\n      <td>0.331349</td>\n      <td>0.424767</td>\n      <td>0.185208</td>\n      <td>0.387389</td>\n      <td>0.125458</td>\n      <td>0.299959</td>\n    </tr>\n    <tr>\n      <th>min</th>\n      <td>0.000000</td>\n      <td>0.000000</td>\n      <td>0.000000</td>\n      <td>0.000000</td>\n      <td>0.000000</td>\n      <td>0.000000</td>\n      <td>0.000000</td>\n      <td>0.000000</td>\n      <td>0.000000</td>\n      <td>0.000000</td>\n      <td>...</td>\n      <td>0.000000</td>\n      <td>0.000000</td>\n      <td>0.000000</td>\n      <td>0.000000</td>\n      <td>0.000000</td>\n      <td>0.000000</td>\n      <td>0.000000</td>\n      <td>0.000000</td>\n      <td>0.000000</td>\n      <td>0.000000</td>\n    </tr>\n    <tr>\n      <th>25%</th>\n      <td>0.000000</td>\n      <td>0.000000</td>\n      <td>0.000000</td>\n      <td>0.000000</td>\n      <td>0.000000</td>\n      <td>0.000000</td>\n      <td>0.000000</td>\n      <td>0.000000</td>\n      <td>0.000000</td>\n      <td>0.000000</td>\n      <td>...</td>\n      <td>0.000000</td>\n      <td>0.000000</td>\n      <td>0.000000</td>\n      <td>0.000000</td>\n      <td>0.000000</td>\n      <td>0.000000</td>\n      <td>0.000000</td>\n      <td>0.000000</td>\n      <td>0.000000</td>\n      <td>0.000000</td>\n    </tr>\n    <tr>\n      <th>50%</th>\n      <td>0.000000</td>\n      <td>0.000000</td>\n      <td>0.000000</td>\n      <td>0.000000</td>\n      <td>0.000000</td>\n      <td>0.000000</td>\n      <td>0.000000</td>\n      <td>0.000000</td>\n      <td>0.000000</td>\n      <td>1.000000</td>\n      <td>...</td>\n      <td>0.000000</td>\n      <td>0.000000</td>\n      <td>0.000000</td>\n      <td>0.000000</td>\n      <td>0.000000</td>\n      <td>0.000000</td>\n      <td>0.000000</td>\n      <td>0.000000</td>\n      <td>0.000000</td>\n      <td>0.000000</td>\n    </tr>\n    <tr>\n      <th>75%</th>\n      <td>0.000000</td>\n      <td>0.000000</td>\n      <td>0.000000</td>\n      <td>1.000000</td>\n      <td>0.000000</td>\n      <td>0.000000</td>\n      <td>1.000000</td>\n      <td>0.000000</td>\n      <td>0.000000</td>\n      <td>1.000000</td>\n      <td>...</td>\n      <td>0.000000</td>\n      <td>0.000000</td>\n      <td>0.000000</td>\n      <td>0.000000</td>\n      <td>0.000000</td>\n      <td>0.000000</td>\n      <td>0.000000</td>\n      <td>0.000000</td>\n      <td>0.000000</td>\n      <td>0.000000</td>\n    </tr>\n    <tr>\n      <th>max</th>\n      <td>1.000000</td>\n      <td>1.000000</td>\n      <td>1.000000</td>\n      <td>1.000000</td>\n      <td>1.000000</td>\n      <td>1.000000</td>\n      <td>1.000000</td>\n      <td>1.000000</td>\n      <td>1.000000</td>\n      <td>1.000000</td>\n      <td>...</td>\n      <td>1.000000</td>\n      <td>1.000000</td>\n      <td>1.000000</td>\n      <td>1.000000</td>\n      <td>1.000000</td>\n      <td>1.000000</td>\n      <td>1.000000</td>\n      <td>1.000000</td>\n      <td>1.000000</td>\n      <td>1.000000</td>\n    </tr>\n  </tbody>\n</table>\n<p>8 rows \u00d7 48 columns</p>\n</div>",
                        "text/plain": "           UNDERINFL       SPEEDING  \\\ncount  183177.000000  183177.000000   \nmean        0.049144       0.050274   \nstd         0.216169       0.218510   \nmin         0.000000       0.000000   \n25%         0.000000       0.000000   \n50%         0.000000       0.000000   \n75%         0.000000       0.000000   \nmax         1.000000       1.000000   \n\n       JUNCTIONTYPE_At Intersection (but not related to intersection)  \\\ncount                                      183177.000000                \nmean                                            0.011230                \nstd                                             0.105373                \nmin                                             0.000000                \n25%                                             0.000000                \n50%                                             0.000000                \n75%                                             0.000000                \nmax                                             1.000000                \n\n       JUNCTIONTYPE_At Intersection (intersection related)  \\\ncount                                      183177.000000     \nmean                                            0.334245     \nstd                                             0.471727     \nmin                                             0.000000     \n25%                                             0.000000     \n50%                                             0.000000     \n75%                                             1.000000     \nmax                                             1.000000     \n\n       JUNCTIONTYPE_Driveway Junction  \\\ncount                   183177.000000   \nmean                         0.057431   \nstd                          0.232665   \nmin                          0.000000   \n25%                          0.000000   \n50%                          0.000000   \n75%                          0.000000   \nmax                          1.000000   \n\n       JUNCTIONTYPE_Mid-Block (but intersection related)  \\\ncount                                      183177.000000   \nmean                                            0.122030   \nstd                                             0.327321   \nmin                                             0.000000   \n25%                                             0.000000   \n50%                                             0.000000   \n75%                                             0.000000   \nmax                                             1.000000   \n\n       JUNCTIONTYPE_Mid-Block (not related to intersection)  \\\ncount                                      183177.000000      \nmean                                            0.474142      \nstd                                             0.499332      \nmin                                             0.000000      \n25%                                             0.000000      \n50%                                             0.000000      \n75%                                             1.000000      \nmax                                             1.000000      \n\n       JUNCTIONTYPE_Ramp Junction  JUNCTIONTYPE_Unknown   ROADCOND_Dry  ...  \\\ncount               183177.000000         183177.000000  183177.000000  ...   \nmean                     0.000884              0.000038       0.667442  ...   \nstd                      0.029726              0.006182       0.471131  ...   \nmin                      0.000000              0.000000       0.000000  ...   \n25%                      0.000000              0.000000       0.000000  ...   \n50%                      0.000000              0.000000       1.000000  ...   \n75%                      0.000000              0.000000       1.000000  ...   \nmax                      1.000000              1.000000       1.000000  ...   \n\n       COLLISIONTYPE_Angles  COLLISIONTYPE_Cycles  COLLISIONTYPE_Head On  \\\ncount         183177.000000         183177.000000          183177.000000   \nmean               0.188146              0.029289               0.010897   \nstd                0.390830              0.168615               0.103817   \nmin                0.000000              0.000000               0.000000   \n25%                0.000000              0.000000               0.000000   \n50%                0.000000              0.000000               0.000000   \n75%                0.000000              0.000000               0.000000   \nmax                1.000000              1.000000               1.000000   \n\n       COLLISIONTYPE_Left Turn  COLLISIONTYPE_Other  COLLISIONTYPE_Parked Car  \\\ncount            183177.000000        183177.000000             183177.000000   \nmean                  0.074469             0.125556                  0.236231   \nstd                   0.262533             0.331349                  0.424767   \nmin                   0.000000             0.000000                  0.000000   \n25%                   0.000000             0.000000                  0.000000   \n50%                   0.000000             0.000000                  0.000000   \n75%                   0.000000             0.000000                  0.000000   \nmax                   1.000000             1.000000                  1.000000   \n\n       COLLISIONTYPE_Pedestrian  COLLISIONTYPE_Rear Ended  \\\ncount             183177.000000             183177.000000   \nmean                   0.035567                  0.183882   \nstd                    0.185208                  0.387389   \nmin                    0.000000                  0.000000   \n25%                    0.000000                  0.000000   \n50%                    0.000000                  0.000000   \n75%                    0.000000                  0.000000   \nmax                    1.000000                  1.000000   \n\n       COLLISIONTYPE_Right Turn  COLLISIONTYPE_Sideswipe  \ncount             183177.000000            183177.000000  \nmean                   0.015995                 0.099969  \nstd                    0.125458                 0.299959  \nmin                    0.000000                 0.000000  \n25%                    0.000000                 0.000000  \n50%                    0.000000                 0.000000  \n75%                    0.000000                 0.000000  \nmax                    1.000000                 1.000000  \n\n[8 rows x 48 columns]"
                    },
                    "execution_count": 28,
                    "metadata": {},
                    "output_type": "execute_result"
                }
            ],
            "source": "X.describe()"
        },
        {
            "cell_type": "markdown",
            "metadata": {},
            "source": " "
        },
        {
            "cell_type": "markdown",
            "metadata": {},
            "source": " "
        },
        {
            "cell_type": "markdown",
            "metadata": {},
            "source": "### Selecting the target"
        },
        {
            "cell_type": "code",
            "execution_count": 29,
            "metadata": {},
            "outputs": [
                {
                    "data": {
                        "text/plain": "0    2\n1    1\n2    1\n3    1\n4    2\nName: SEVERITYCODE, dtype: int64"
                    },
                    "execution_count": 29,
                    "metadata": {},
                    "output_type": "execute_result"
                }
            ],
            "source": "y= df['SEVERITYCODE']\ny.head()"
        },
        {
            "cell_type": "code",
            "execution_count": 30,
            "metadata": {},
            "outputs": [
                {
                    "data": {
                        "text/plain": "1    126521\n2     56656\nName: SEVERITYCODE, dtype: int64"
                    },
                    "execution_count": 30,
                    "metadata": {},
                    "output_type": "execute_result"
                }
            ],
            "source": "y.value_counts()"
        },
        {
            "cell_type": "code",
            "execution_count": 31,
            "metadata": {},
            "outputs": [],
            "source": "pre_df_maj= y[y==1]"
        },
        {
            "cell_type": "code",
            "execution_count": 32,
            "metadata": {},
            "outputs": [],
            "source": "pre_df_min= y[y==2]"
        },
        {
            "cell_type": "code",
            "execution_count": 33,
            "metadata": {},
            "outputs": [],
            "source": "from sklearn.utils import resample"
        },
        {
            "cell_type": "code",
            "execution_count": 34,
            "metadata": {},
            "outputs": [],
            "source": "maj_sample= resample(pre_df_maj, replace=False, n_samples=10000, random_state=9)"
        },
        {
            "cell_type": "code",
            "execution_count": 35,
            "metadata": {},
            "outputs": [],
            "source": "min_sample= resample(pre_df_min, replace=False, n_samples=10000, random_state=9)"
        },
        {
            "cell_type": "code",
            "execution_count": 36,
            "metadata": {},
            "outputs": [],
            "source": "y= pd.concat([maj_sample, min_sample])"
        },
        {
            "cell_type": "code",
            "execution_count": 37,
            "metadata": {},
            "outputs": [
                {
                    "data": {
                        "text/plain": "2    10000\n1    10000\nName: SEVERITYCODE, dtype: int64"
                    },
                    "execution_count": 37,
                    "metadata": {},
                    "output_type": "execute_result"
                }
            ],
            "source": "y.value_counts()"
        },
        {
            "cell_type": "markdown",
            "metadata": {},
            "source": "    "
        },
        {
            "cell_type": "code",
            "execution_count": 38,
            "metadata": {},
            "outputs": [],
            "source": "  X= resample(X, replace=False, n_samples=20000, random_state=9)\n    "
        },
        {
            "cell_type": "code",
            "execution_count": 39,
            "metadata": {},
            "outputs": [
                {
                    "data": {
                        "text/html": "<div>\n<style scoped>\n    .dataframe tbody tr th:only-of-type {\n        vertical-align: middle;\n    }\n\n    .dataframe tbody tr th {\n        vertical-align: top;\n    }\n\n    .dataframe thead th {\n        text-align: right;\n    }\n</style>\n<table border=\"1\" class=\"dataframe\">\n  <thead>\n    <tr style=\"text-align: right;\">\n      <th></th>\n      <th>UNDERINFL</th>\n      <th>SPEEDING</th>\n      <th>JUNCTIONTYPE_At Intersection (but not related to intersection)</th>\n      <th>JUNCTIONTYPE_At Intersection (intersection related)</th>\n      <th>JUNCTIONTYPE_Driveway Junction</th>\n      <th>JUNCTIONTYPE_Mid-Block (but intersection related)</th>\n      <th>JUNCTIONTYPE_Mid-Block (not related to intersection)</th>\n      <th>JUNCTIONTYPE_Ramp Junction</th>\n      <th>JUNCTIONTYPE_Unknown</th>\n      <th>ROADCOND_Dry</th>\n      <th>...</th>\n      <th>COLLISIONTYPE_Angles</th>\n      <th>COLLISIONTYPE_Cycles</th>\n      <th>COLLISIONTYPE_Head On</th>\n      <th>COLLISIONTYPE_Left Turn</th>\n      <th>COLLISIONTYPE_Other</th>\n      <th>COLLISIONTYPE_Parked Car</th>\n      <th>COLLISIONTYPE_Pedestrian</th>\n      <th>COLLISIONTYPE_Rear Ended</th>\n      <th>COLLISIONTYPE_Right Turn</th>\n      <th>COLLISIONTYPE_Sideswipe</th>\n    </tr>\n  </thead>\n  <tbody>\n    <tr>\n      <th>95344</th>\n      <td>0</td>\n      <td>0</td>\n      <td>0</td>\n      <td>0</td>\n      <td>0</td>\n      <td>0</td>\n      <td>1</td>\n      <td>0</td>\n      <td>0</td>\n      <td>1</td>\n      <td>...</td>\n      <td>0</td>\n      <td>0</td>\n      <td>0</td>\n      <td>0</td>\n      <td>0</td>\n      <td>1</td>\n      <td>0</td>\n      <td>0</td>\n      <td>0</td>\n      <td>0</td>\n    </tr>\n    <tr>\n      <th>186141</th>\n      <td>0</td>\n      <td>0</td>\n      <td>0</td>\n      <td>1</td>\n      <td>0</td>\n      <td>0</td>\n      <td>0</td>\n      <td>0</td>\n      <td>0</td>\n      <td>0</td>\n      <td>...</td>\n      <td>0</td>\n      <td>0</td>\n      <td>0</td>\n      <td>0</td>\n      <td>0</td>\n      <td>1</td>\n      <td>0</td>\n      <td>0</td>\n      <td>0</td>\n      <td>0</td>\n    </tr>\n    <tr>\n      <th>57630</th>\n      <td>0</td>\n      <td>0</td>\n      <td>0</td>\n      <td>0</td>\n      <td>0</td>\n      <td>1</td>\n      <td>0</td>\n      <td>0</td>\n      <td>0</td>\n      <td>0</td>\n      <td>...</td>\n      <td>0</td>\n      <td>0</td>\n      <td>0</td>\n      <td>0</td>\n      <td>0</td>\n      <td>1</td>\n      <td>0</td>\n      <td>0</td>\n      <td>0</td>\n      <td>0</td>\n    </tr>\n    <tr>\n      <th>160982</th>\n      <td>0</td>\n      <td>0</td>\n      <td>0</td>\n      <td>1</td>\n      <td>0</td>\n      <td>0</td>\n      <td>0</td>\n      <td>0</td>\n      <td>0</td>\n      <td>1</td>\n      <td>...</td>\n      <td>0</td>\n      <td>0</td>\n      <td>0</td>\n      <td>1</td>\n      <td>0</td>\n      <td>0</td>\n      <td>0</td>\n      <td>0</td>\n      <td>0</td>\n      <td>0</td>\n    </tr>\n    <tr>\n      <th>101474</th>\n      <td>0</td>\n      <td>1</td>\n      <td>0</td>\n      <td>0</td>\n      <td>0</td>\n      <td>0</td>\n      <td>1</td>\n      <td>0</td>\n      <td>0</td>\n      <td>0</td>\n      <td>...</td>\n      <td>0</td>\n      <td>0</td>\n      <td>0</td>\n      <td>0</td>\n      <td>0</td>\n      <td>0</td>\n      <td>0</td>\n      <td>1</td>\n      <td>0</td>\n      <td>0</td>\n    </tr>\n  </tbody>\n</table>\n<p>5 rows \u00d7 48 columns</p>\n</div>",
                        "text/plain": "        UNDERINFL  SPEEDING  \\\n95344           0         0   \n186141          0         0   \n57630           0         0   \n160982          0         0   \n101474          0         1   \n\n        JUNCTIONTYPE_At Intersection (but not related to intersection)  \\\n95344                                                   0                \n186141                                                  0                \n57630                                                   0                \n160982                                                  0                \n101474                                                  0                \n\n        JUNCTIONTYPE_At Intersection (intersection related)  \\\n95344                                                   0     \n186141                                                  1     \n57630                                                   0     \n160982                                                  1     \n101474                                                  0     \n\n        JUNCTIONTYPE_Driveway Junction  \\\n95344                                0   \n186141                               0   \n57630                                0   \n160982                               0   \n101474                               0   \n\n        JUNCTIONTYPE_Mid-Block (but intersection related)  \\\n95344                                                   0   \n186141                                                  0   \n57630                                                   1   \n160982                                                  0   \n101474                                                  0   \n\n        JUNCTIONTYPE_Mid-Block (not related to intersection)  \\\n95344                                                   1      \n186141                                                  0      \n57630                                                   0      \n160982                                                  0      \n101474                                                  1      \n\n        JUNCTIONTYPE_Ramp Junction  JUNCTIONTYPE_Unknown  ROADCOND_Dry  ...  \\\n95344                            0                     0             1  ...   \n186141                           0                     0             0  ...   \n57630                            0                     0             0  ...   \n160982                           0                     0             1  ...   \n101474                           0                     0             0  ...   \n\n        COLLISIONTYPE_Angles  COLLISIONTYPE_Cycles  COLLISIONTYPE_Head On  \\\n95344                      0                     0                      0   \n186141                     0                     0                      0   \n57630                      0                     0                      0   \n160982                     0                     0                      0   \n101474                     0                     0                      0   \n\n        COLLISIONTYPE_Left Turn  COLLISIONTYPE_Other  \\\n95344                         0                    0   \n186141                        0                    0   \n57630                         0                    0   \n160982                        1                    0   \n101474                        0                    0   \n\n        COLLISIONTYPE_Parked Car  COLLISIONTYPE_Pedestrian  \\\n95344                          1                         0   \n186141                         1                         0   \n57630                          1                         0   \n160982                         0                         0   \n101474                         0                         0   \n\n        COLLISIONTYPE_Rear Ended  COLLISIONTYPE_Right Turn  \\\n95344                          0                         0   \n186141                         0                         0   \n57630                          0                         0   \n160982                         0                         0   \n101474                         1                         0   \n\n        COLLISIONTYPE_Sideswipe  \n95344                         0  \n186141                        0  \n57630                         0  \n160982                        0  \n101474                        0  \n\n[5 rows x 48 columns]"
                    },
                    "execution_count": 39,
                    "metadata": {},
                    "output_type": "execute_result"
                }
            ],
            "source": "X.head()"
        },
        {
            "cell_type": "markdown",
            "metadata": {},
            "source": "### Train-Test Split"
        },
        {
            "cell_type": "code",
            "execution_count": 40,
            "metadata": {},
            "outputs": [],
            "source": "X_train, X_test, y_train, y_test= train_test_split(X, y, test_size=0.3, random_state=9)"
        },
        {
            "cell_type": "code",
            "execution_count": 41,
            "metadata": {},
            "outputs": [
                {
                    "name": "stdout",
                    "output_type": "stream",
                    "text": "The shape of train set=  (14000, 48) (14000,)\n"
                }
            ],
            "source": "print(\"The shape of train set= \",X_train.shape, y_train.shape)"
        },
        {
            "cell_type": "code",
            "execution_count": 42,
            "metadata": {},
            "outputs": [
                {
                    "name": "stdout",
                    "output_type": "stream",
                    "text": "The shape of test set=  (6000, 48) (6000,)\n"
                }
            ],
            "source": "print(\"The shape of test set= \", X_test.shape, y_test.shape)"
        },
        {
            "cell_type": "markdown",
            "metadata": {},
            "source": " \n "
        },
        {
            "cell_type": "markdown",
            "metadata": {},
            "source": " "
        },
        {
            "cell_type": "markdown",
            "metadata": {},
            "source": "## Classification using various classification algorithm"
        },
        {
            "cell_type": "code",
            "execution_count": 43,
            "metadata": {},
            "outputs": [],
            "source": "from sklearn.metrics import jaccard_similarity_score\nfrom sklearn.metrics import f1_score\n"
        },
        {
            "cell_type": "code",
            "execution_count": 44,
            "metadata": {},
            "outputs": [],
            "source": "jaccard_score= []\nf1_scores= []\n"
        },
        {
            "cell_type": "markdown",
            "metadata": {},
            "source": "\n"
        },
        {
            "cell_type": "markdown",
            "metadata": {},
            "source": "### K-Means Algorithm"
        },
        {
            "cell_type": "code",
            "execution_count": 45,
            "metadata": {},
            "outputs": [],
            "source": "from sklearn.neighbors import KNeighborsClassifier "
        },
        {
            "cell_type": "code",
            "execution_count": 46,
            "metadata": {},
            "outputs": [],
            "source": "from sklearn.model_selection import cross_val_score"
        },
        {
            "cell_type": "code",
            "execution_count": 47,
            "metadata": {},
            "outputs": [
                {
                    "name": "stdout",
                    "output_type": "stream",
                    "text": "Best K is : 4 | Cross validation Accuracy : 0.49964336665477893\n"
                }
            ],
            "source": "bestScore= 0.0\naccuracy_list= []\n\nfor k in range(3,20):\n    knn_model= KNeighborsClassifier(n_neighbors= k)\n    scores = cross_val_score(knn_model, X_train, y_train, cv=10)\n    score= scores.mean()\n    accuracy_list.append(score)\n    \n    if score > bestScore:\n        bestScore= score\n        best_clf= knn_model\n        bestK= k\n        \nprint(\"Best K is :\",bestK,\"| Cross validation Accuracy :\",bestScore)\nknn_model=best_clf"
        },
        {
            "cell_type": "code",
            "execution_count": 48,
            "metadata": {},
            "outputs": [],
            "source": "knn_model= best_clf"
        },
        {
            "cell_type": "code",
            "execution_count": 49,
            "metadata": {},
            "outputs": [
                {
                    "data": {
                        "text/plain": "KNeighborsClassifier(algorithm='auto', leaf_size=30, metric='minkowski',\n           metric_params=None, n_jobs=None, n_neighbors=4, p=2,\n           weights='uniform')"
                    },
                    "execution_count": 49,
                    "metadata": {},
                    "output_type": "execute_result"
                }
            ],
            "source": "knn_model.fit(X_train, y_train)"
        },
        {
            "cell_type": "code",
            "execution_count": 50,
            "metadata": {},
            "outputs": [],
            "source": "prediction= knn_model.predict(X_test)"
        },
        {
            "cell_type": "code",
            "execution_count": 51,
            "metadata": {},
            "outputs": [],
            "source": "jaccard_score_knn= jaccard_similarity_score(y_test, prediction)\nf1_score_knn= f1_score(y_test, prediction, average='weighted')\n"
        },
        {
            "cell_type": "code",
            "execution_count": 52,
            "metadata": {},
            "outputs": [
                {
                    "name": "stdout",
                    "output_type": "stream",
                    "text": "0.49666666666666665 0.4845200006056202\n"
                }
            ],
            "source": "print(jaccard_score_knn, f1_score_knn)"
        },
        {
            "cell_type": "code",
            "execution_count": 53,
            "metadata": {},
            "outputs": [],
            "source": "jaccard_score.append(jaccard_score_knn)\nf1_scores.append(f1_score_knn)"
        },
        {
            "cell_type": "markdown",
            "metadata": {},
            "source": "\n\n"
        },
        {
            "cell_type": "markdown",
            "metadata": {},
            "source": " "
        },
        {
            "cell_type": "markdown",
            "metadata": {},
            "source": "### Support Vector Machine"
        },
        {
            "cell_type": "code",
            "execution_count": 54,
            "metadata": {},
            "outputs": [],
            "source": "from sklearn import svm"
        },
        {
            "cell_type": "code",
            "execution_count": 55,
            "metadata": {},
            "outputs": [],
            "source": "clf_svm = svm.LinearSVC(random_state=7)\nclf_svm.fit(X_train, y_train)  \n\nprediction= clf_svm.predict(X_test)"
        },
        {
            "cell_type": "code",
            "execution_count": 56,
            "metadata": {},
            "outputs": [
                {
                    "name": "stdout",
                    "output_type": "stream",
                    "text": "0.49383333333333335 0.5474593950230964\n"
                }
            ],
            "source": "jaccard_score_svm= jaccard_similarity_score(y_test, prediction)\nf1_score_svm= f1_score(y_test, prediction)\nprint(jaccard_score_svm, f1_score_svm)"
        },
        {
            "cell_type": "code",
            "execution_count": 57,
            "metadata": {},
            "outputs": [],
            "source": "jaccard_score.append(jaccard_score_svm)\nf1_scores.append(f1_score_svm)"
        },
        {
            "cell_type": "markdown",
            "metadata": {},
            "source": "\n\n"
        },
        {
            "cell_type": "markdown",
            "metadata": {},
            "source": "\n"
        },
        {
            "cell_type": "markdown",
            "metadata": {},
            "source": "### Decision Tree"
        },
        {
            "cell_type": "code",
            "execution_count": 58,
            "metadata": {},
            "outputs": [],
            "source": "from sklearn import tree\n"
        },
        {
            "cell_type": "code",
            "execution_count": 59,
            "metadata": {},
            "outputs": [],
            "source": "clf_tree = tree.DecisionTreeClassifier()\nclf_tree = clf_tree.fit(X_train, y_train)\n\nprediction= clf_tree.predict(X_test)"
        },
        {
            "cell_type": "code",
            "execution_count": 60,
            "metadata": {},
            "outputs": [
                {
                    "name": "stdout",
                    "output_type": "stream",
                    "text": "0.49233333333333335\n"
                }
            ],
            "source": "jaccard_score_tree= jaccard_similarity_score(y_test, prediction)\njaccard_score.append(jaccard_score_tree)\nprint(jaccard_score_tree)"
        },
        {
            "cell_type": "code",
            "execution_count": 61,
            "metadata": {},
            "outputs": [
                {
                    "name": "stdout",
                    "output_type": "stream",
                    "text": "0.49229226796962444\n"
                }
            ],
            "source": "f1_score_tree= f1_score(y_test, prediction,average='weighted')\nf1_scores.append(f1_score_tree)\nprint(f1_score_tree)"
        },
        {
            "cell_type": "markdown",
            "metadata": {},
            "source": " \n "
        },
        {
            "cell_type": "markdown",
            "metadata": {},
            "source": "### Random Forest"
        },
        {
            "cell_type": "code",
            "execution_count": 62,
            "metadata": {},
            "outputs": [
                {
                    "data": {
                        "text/plain": "RandomForestClassifier(bootstrap=True, class_weight=None, criterion='gini',\n            max_depth=15, max_features=20, max_leaf_nodes=None,\n            min_impurity_decrease=0.0, min_impurity_split=None,\n            min_samples_leaf=1, min_samples_split=2,\n            min_weight_fraction_leaf=0.0, n_estimators=100, n_jobs=None,\n            oob_score=False, random_state=0, verbose=0, warm_start=False)"
                    },
                    "execution_count": 62,
                    "metadata": {},
                    "output_type": "execute_result"
                }
            ],
            "source": "from sklearn.ensemble import RandomForestClassifier\nfrom sklearn.datasets import make_classification\nclf_rf = RandomForestClassifier(max_depth=15, random_state=0,n_estimators=100,max_features=20)\nclf_rf.fit(X_train, y_train)"
        },
        {
            "cell_type": "code",
            "execution_count": 63,
            "metadata": {},
            "outputs": [],
            "source": "prediction= clf_rf.predict(X_test)"
        },
        {
            "cell_type": "code",
            "execution_count": 64,
            "metadata": {},
            "outputs": [],
            "source": "jaccard_score_rf= jaccard_similarity_score(y_test, prediction)\nf1_score_rf= f1_score(y_test, prediction)"
        },
        {
            "cell_type": "code",
            "execution_count": 65,
            "metadata": {},
            "outputs": [
                {
                    "name": "stdout",
                    "output_type": "stream",
                    "text": "0.49666666666666665\n"
                }
            ],
            "source": "print(jaccard_score_rf)"
        },
        {
            "cell_type": "code",
            "execution_count": 66,
            "metadata": {},
            "outputs": [],
            "source": "jaccard_score.append(jaccard_score_rf)"
        },
        {
            "cell_type": "code",
            "execution_count": 67,
            "metadata": {},
            "outputs": [
                {
                    "name": "stdout",
                    "output_type": "stream",
                    "text": "[0.49666666666666665, 0.49383333333333335, 0.49233333333333335, 0.49666666666666665]\n"
                }
            ],
            "source": "print(jaccard_score)"
        },
        {
            "cell_type": "code",
            "execution_count": 68,
            "metadata": {},
            "outputs": [
                {
                    "name": "stdout",
                    "output_type": "stream",
                    "text": "[0.4845200006056202, 0.5474593950230964, 0.49229226796962444, 0.4980053191489362]\n"
                }
            ],
            "source": "f1_scores.append(f1_score_rf)\nprint(f1_scores)"
        },
        {
            "cell_type": "code",
            "execution_count": 69,
            "metadata": {},
            "outputs": [
                {
                    "data": {
                        "text/plain": "{0: 0.49666666666666665,\n 1: 0.49383333333333335,\n 2: 0.49233333333333335,\n 3: 0.49666666666666665}"
                    },
                    "execution_count": 69,
                    "metadata": {},
                    "output_type": "execute_result"
                }
            ],
            "source": "score_jacc_dict= dict(enumerate(jaccard_score))\nscore_jacc_dict"
        },
        {
            "cell_type": "code",
            "execution_count": 70,
            "metadata": {},
            "outputs": [
                {
                    "data": {
                        "text/plain": "{0: 0.4845200006056202,\n 1: 0.5474593950230964,\n 2: 0.49229226796962444,\n 3: 0.4980053191489362}"
                    },
                    "execution_count": 70,
                    "metadata": {},
                    "output_type": "execute_result"
                }
            ],
            "source": "score_f1_dict= dict(enumerate(f1_scores))\nscore_f1_dict"
        },
        {
            "cell_type": "code",
            "execution_count": 71,
            "metadata": {},
            "outputs": [],
            "source": "score_jacc_df= pd.DataFrame(score_jacc_dict.items(), columns=['I','Jaccard-Score'])"
        },
        {
            "cell_type": "code",
            "execution_count": 72,
            "metadata": {},
            "outputs": [
                {
                    "data": {
                        "text/html": "<div>\n<style scoped>\n    .dataframe tbody tr th:only-of-type {\n        vertical-align: middle;\n    }\n\n    .dataframe tbody tr th {\n        vertical-align: top;\n    }\n\n    .dataframe thead th {\n        text-align: right;\n    }\n</style>\n<table border=\"1\" class=\"dataframe\">\n  <thead>\n    <tr style=\"text-align: right;\">\n      <th></th>\n      <th>I</th>\n      <th>Jaccard-Score</th>\n    </tr>\n  </thead>\n  <tbody>\n    <tr>\n      <th>0</th>\n      <td>0</td>\n      <td>0.496667</td>\n    </tr>\n    <tr>\n      <th>1</th>\n      <td>1</td>\n      <td>0.493833</td>\n    </tr>\n    <tr>\n      <th>2</th>\n      <td>2</td>\n      <td>0.492333</td>\n    </tr>\n    <tr>\n      <th>3</th>\n      <td>3</td>\n      <td>0.496667</td>\n    </tr>\n  </tbody>\n</table>\n</div>",
                        "text/plain": "   I  Jaccard-Score\n0  0       0.496667\n1  1       0.493833\n2  2       0.492333\n3  3       0.496667"
                    },
                    "execution_count": 72,
                    "metadata": {},
                    "output_type": "execute_result"
                }
            ],
            "source": "score_jacc_df"
        },
        {
            "cell_type": "code",
            "execution_count": 73,
            "metadata": {},
            "outputs": [
                {
                    "data": {
                        "text/html": "<div>\n<style scoped>\n    .dataframe tbody tr th:only-of-type {\n        vertical-align: middle;\n    }\n\n    .dataframe tbody tr th {\n        vertical-align: top;\n    }\n\n    .dataframe thead th {\n        text-align: right;\n    }\n</style>\n<table border=\"1\" class=\"dataframe\">\n  <thead>\n    <tr style=\"text-align: right;\">\n      <th></th>\n      <th>Jaccard-Score</th>\n    </tr>\n  </thead>\n  <tbody>\n    <tr>\n      <th>0</th>\n      <td>0.496667</td>\n    </tr>\n    <tr>\n      <th>1</th>\n      <td>0.493833</td>\n    </tr>\n    <tr>\n      <th>2</th>\n      <td>0.492333</td>\n    </tr>\n    <tr>\n      <th>3</th>\n      <td>0.496667</td>\n    </tr>\n  </tbody>\n</table>\n</div>",
                        "text/plain": "   Jaccard-Score\n0       0.496667\n1       0.493833\n2       0.492333\n3       0.496667"
                    },
                    "execution_count": 73,
                    "metadata": {},
                    "output_type": "execute_result"
                }
            ],
            "source": "score_jacc_df.drop('I', axis=1, inplace=True)\nscore_jacc_df"
        },
        {
            "cell_type": "code",
            "execution_count": 74,
            "metadata": {},
            "outputs": [
                {
                    "data": {
                        "text/html": "<div>\n<style scoped>\n    .dataframe tbody tr th:only-of-type {\n        vertical-align: middle;\n    }\n\n    .dataframe tbody tr th {\n        vertical-align: top;\n    }\n\n    .dataframe thead th {\n        text-align: right;\n    }\n</style>\n<table border=\"1\" class=\"dataframe\">\n  <thead>\n    <tr style=\"text-align: right;\">\n      <th></th>\n      <th>F1-Score</th>\n    </tr>\n  </thead>\n  <tbody>\n    <tr>\n      <th>0</th>\n      <td>0.484520</td>\n    </tr>\n    <tr>\n      <th>1</th>\n      <td>0.547459</td>\n    </tr>\n    <tr>\n      <th>2</th>\n      <td>0.492292</td>\n    </tr>\n    <tr>\n      <th>3</th>\n      <td>0.498005</td>\n    </tr>\n  </tbody>\n</table>\n</div>",
                        "text/plain": "   F1-Score\n0  0.484520\n1  0.547459\n2  0.492292\n3  0.498005"
                    },
                    "execution_count": 74,
                    "metadata": {},
                    "output_type": "execute_result"
                }
            ],
            "source": "score_f1_df= pd.DataFrame(score_f1_dict.items(), columns=['I', 'F1-Score'])\nscore_f1_df.drop('I', axis=1, inplace=True)\nscore_f1_df"
        },
        {
            "cell_type": "code",
            "execution_count": 75,
            "metadata": {},
            "outputs": [],
            "source": "scores_df= pd.concat([score_jacc_df, score_f1_df], axis=1)"
        },
        {
            "cell_type": "code",
            "execution_count": 76,
            "metadata": {},
            "outputs": [
                {
                    "data": {
                        "text/html": "<div>\n<style scoped>\n    .dataframe tbody tr th:only-of-type {\n        vertical-align: middle;\n    }\n\n    .dataframe tbody tr th {\n        vertical-align: top;\n    }\n\n    .dataframe thead th {\n        text-align: right;\n    }\n</style>\n<table border=\"1\" class=\"dataframe\">\n  <thead>\n    <tr style=\"text-align: right;\">\n      <th></th>\n      <th>Jaccard-Score</th>\n      <th>F1-Score</th>\n    </tr>\n  </thead>\n  <tbody>\n    <tr>\n      <th>0</th>\n      <td>0.496667</td>\n      <td>0.484520</td>\n    </tr>\n    <tr>\n      <th>1</th>\n      <td>0.493833</td>\n      <td>0.547459</td>\n    </tr>\n    <tr>\n      <th>2</th>\n      <td>0.492333</td>\n      <td>0.492292</td>\n    </tr>\n    <tr>\n      <th>3</th>\n      <td>0.496667</td>\n      <td>0.498005</td>\n    </tr>\n  </tbody>\n</table>\n</div>",
                        "text/plain": "   Jaccard-Score  F1-Score\n0       0.496667  0.484520\n1       0.493833  0.547459\n2       0.492333  0.492292\n3       0.496667  0.498005"
                    },
                    "execution_count": 76,
                    "metadata": {},
                    "output_type": "execute_result"
                }
            ],
            "source": "scores_df"
        },
        {
            "cell_type": "code",
            "execution_count": 77,
            "metadata": {},
            "outputs": [
                {
                    "data": {
                        "text/html": "<div>\n<style scoped>\n    .dataframe tbody tr th:only-of-type {\n        vertical-align: middle;\n    }\n\n    .dataframe tbody tr th {\n        vertical-align: top;\n    }\n\n    .dataframe thead th {\n        text-align: right;\n    }\n</style>\n<table border=\"1\" class=\"dataframe\">\n  <thead>\n    <tr style=\"text-align: right;\">\n      <th></th>\n      <th>Jaccard-Score</th>\n      <th>F1-Score</th>\n    </tr>\n  </thead>\n  <tbody>\n    <tr>\n      <th>KNN</th>\n      <td>0.496667</td>\n      <td>0.484520</td>\n    </tr>\n    <tr>\n      <th>SVM</th>\n      <td>0.493833</td>\n      <td>0.547459</td>\n    </tr>\n    <tr>\n      <th>Decision-Tree</th>\n      <td>0.492333</td>\n      <td>0.492292</td>\n    </tr>\n    <tr>\n      <th>Random Forest</th>\n      <td>0.496667</td>\n      <td>0.498005</td>\n    </tr>\n  </tbody>\n</table>\n</div>",
                        "text/plain": "               Jaccard-Score  F1-Score\nKNN                 0.496667  0.484520\nSVM                 0.493833  0.547459\nDecision-Tree       0.492333  0.492292\nRandom Forest       0.496667  0.498005"
                    },
                    "execution_count": 77,
                    "metadata": {},
                    "output_type": "execute_result"
                }
            ],
            "source": "scores_df.rename(index={0:'KNN', 1:'SVM', 2:'Decision-Tree', 3:'Random Forest'})"
        },
        {
            "cell_type": "markdown",
            "metadata": {},
            "source": "\n\n"
        },
        {
            "cell_type": "markdown",
            "metadata": {},
            "source": " "
        },
        {
            "cell_type": "markdown",
            "metadata": {},
            "source": "## From the scores dataframe above I  infer  Random Forest would be a better algorithm"
        }
    ],
    "metadata": {
        "kernelspec": {
            "display_name": "Python 3.6",
            "language": "python",
            "name": "python3"
        },
        "language_info": {
            "codemirror_mode": {
                "name": "ipython",
                "version": 3
            },
            "file_extension": ".py",
            "mimetype": "text/x-python",
            "name": "python",
            "nbconvert_exporter": "python",
            "pygments_lexer": "ipython3",
            "version": "3.6.9"
        }
    },
    "nbformat": 4,
    "nbformat_minor": 1
}